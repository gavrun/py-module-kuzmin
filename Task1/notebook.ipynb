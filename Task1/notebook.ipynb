{
 "cells": [
  {
   "cell_type": "markdown",
   "id": "7c162cf1",
   "metadata": {},
   "source": [
    "# Markdown"
   ]
  },
  {
   "cell_type": "code",
   "execution_count": null,
   "id": "76ae0f07",
   "metadata": {},
   "outputs": [],
   "source": [
    "# Code\n",
    "\n",
    "a = 5 \n",
    "b = a + 7 "
   ]
  }
 ],
 "metadata": {
  "kernelspec": {
   "display_name": "base",
   "language": "python",
   "name": "python3"
  },
  "language_info": {
   "name": "python",
   "version": "3.12.9"
  }
 },
 "nbformat": 4,
 "nbformat_minor": 5
}
